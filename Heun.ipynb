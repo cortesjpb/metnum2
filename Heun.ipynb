{
 "cells": [
  {
   "cell_type": "code",
   "execution_count": null,
   "metadata": {},
   "outputs": [],
   "source": [
    "import pandas as pd\n",
    "import numpy as np\n",
    "import matplotlib.pyplot as plt\n",
    "from EulerFuncional import *\n",
    "from TrapecioFuncional import *"
   ]
  },
  {
   "cell_type": "code",
   "execution_count": null,
   "metadata": {},
   "outputs": [],
   "source": [
    "def f(t,y):\n",
    "    #return (t*(np.e**(3*t)))-(2*y)   # TP1 b)\n",
    "    #return 1 + ((t-y)**2)           # TP1 a)\n",
    "    #return (2-(2*t*y))/((t**2)+1)   # Ejemplo Euler\n",
    "    return 2*y/t+t**2*np.e**t\n",
    "\n",
    "def yReal(t):\n",
    "    #return (1/5)*t*(np.e**(3*t))-(1/25)*(np.e**(3*t))+((1/25)*(np.e**(-2*t)))    # TP1 b)\n",
    "    #return t + (1/(1-t))                                                        # TP1 a)\n",
    "    #return ((2*t)+1)/((t**2)+1)                                                 # Ejemplo Euler\n",
    "    return (1/2)*np.sin(2*t)-(1/3)*np.cos(3*t)+(4/3)"
   ]
  },
  {
   "cell_type": "code",
   "execution_count": null,
   "metadata": {},
   "outputs": [],
   "source": [
    "def Heun(faprox,freal,h,I,y0,grafico,Epsilon,maxiter):\n",
    "    '''\n",
    "    Método Predictor - Corrector para aproximar funciones\n",
    "    Como método predictor utiliza el Método de Euler Explícito\n",
    "    Como método corrector utiliza el Método de los Trapecios\n",
    "    \n",
    "    faprox = Funcion a Aproximar\n",
    "    freal = Funcion Real\n",
    "    h = Tamaño del paso\n",
    "    I = Par [a,b] para calcular los pasos\n",
    "    y0 = Valor iniciar conocido\n",
    "    grafico = Decido Realizar el o no el grafico\n",
    "    '''\n",
    "    \n",
    "    p0 = Euler(f,yReal,h,[I[0],I[0]+h],y0,False).loc[1]\n",
    "    print(p0)\n",
    "    numiter = 1\n",
    "    yaprox1 = 9999.9\n",
    "    yaprox0 = float(p0['yAprox'])\n",
    "    while numiter<maxiter:        \n",
    "        t0 = float(p0['t'])\n",
    "        y0 = float(p0['yAprox'])\n",
    "        ynew = trapecio(f,yReal,h,[t0,t0+h],y0,False).loc[1]\n",
    "        yaprox1 = float(ynew['yAprox'])\n",
    "        if abs(yaprox1-yaprox0)<Epsilon:\n",
    "               break\n",
    "        yaprox0 = yaprox1\n",
    "        p0 = ynew\n",
    "        p0['t'] = t0\n",
    "        print(\"PRINTING p0\\n\",p0)\n",
    "        numiter += 1\n",
    "    print(\"PRINTING y0 FINAL\\n\",p0)\n",
    "               "
   ]
  },
  {
   "cell_type": "code",
   "execution_count": null,
   "metadata": {},
   "outputs": [],
   "source": [
    "I = [1,2]\n",
    "h = 0.10\n",
    "y0 = 0\n",
    "epsilon = 0.01\n",
    "Heun(f,yReal,h,I,y0,True,epsilon,50)\n"
   ]
  }
 ],
 "metadata": {
  "kernelspec": {
   "display_name": "Python 3",
   "language": "python",
   "name": "python3"
  },
  "language_info": {
   "codemirror_mode": {
    "name": "ipython",
    "version": 3
   },
   "file_extension": ".py",
   "mimetype": "text/x-python",
   "name": "python",
   "nbconvert_exporter": "python",
   "pygments_lexer": "ipython3",
   "version": "3.7.3"
  }
 },
 "nbformat": 4,
 "nbformat_minor": 2
}
