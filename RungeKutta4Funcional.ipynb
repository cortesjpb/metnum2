{
 "cells": [
  {
   "cell_type": "code",
   "execution_count": 1,
   "metadata": {},
   "outputs": [],
   "source": [
    "import pandas as pd\n",
    "import numpy as np\n",
    "import matplotlib.pyplot as plt"
   ]
  },
  {
   "cell_type": "code",
   "execution_count": 2,
   "metadata": {},
   "outputs": [],
   "source": [
    "def f(t,y):\n",
    "    return (t*(np.e**(3*t)))-(2*y)   # TP1 b)\n",
    "    #return 1 + ((t-y)**2)           # TP1 a)\n",
    "    #return (2-(2*t*y))/((t**2)+1)   # Ejemplo Euler\n",
    "\n",
    "def yReal(t):\n",
    "    return (1/5)*t*(np.e**(3*t))-(1/25)*(np.e**(3*t))+((1/25)*(np.e**(-2*t)))    # TP1 b)\n",
    "    #return t + (1/(1-t))                                                        # TP1 a)\n",
    "    #return ((2*t)+1)/((t**2)+1)                                                 # Ejemplo Euler"
   ]
  },
  {
   "cell_type": "code",
   "execution_count": 3,
   "metadata": {},
   "outputs": [],
   "source": [
    "def RungeKutta4(faprox,freal,h,I,y0,grafico):\n",
    "    \n",
    "    \"\"\"\n",
    "    faprox = Funcion a Aproximar\n",
    "    freal = Funcion Real\n",
    "    h = Tamaño del paso\n",
    "    I = Par [a,b] para calcular los pasos\n",
    "    y0 = Valor iniciar conocido\n",
    "    grafico = Permite realizar o no un grafico\n",
    "    \"\"\"\n",
    "    \n",
    "    # Determino los pasos a utilizar en funcion del intervalo I y el tamaño de paso h\n",
    "    # pasos = [I[0]+(i*h) for i in range(1,int((I[1]-I[0])//h)+1)]\n",
    "    pasos = [i for i in np.arange(I[0]+h,I[1]+h,h)]    \n",
    "    \n",
    "    # Creo un DataFrame para hacer la tabla y poder graficar luego\n",
    "    # Nombro las columnas y creo la primera fila que es el valor inicial\n",
    "    columnas=[\"t\",\"yAprox\",\"yReal\",\"eLocal\",\"eGlobal\"]\n",
    "    df = pd.DataFrame(np.array([[I[0],y0,y0,0.0,0.0]]),columns=columnas)    \n",
    "    \n",
    "    # Usando la fila anterior (resultados del paso anterior) calculo el siguiente\n",
    "    for i in range(len(pasos)):        \n",
    "        t = pasos[i]\n",
    "        t0 = t-h\n",
    "        y = float(df[\"yAprox\"].loc[i])\n",
    "        k1 = faprox(t0,y)\n",
    "        k2 = faprox(t0+(h/2),y+(h*k1/2))\n",
    "        k3 = faprox(t0+(h/2),y+(h*k2/2))\n",
    "        k4 = faprox(t0+h,y+(h*k3))\n",
    "        yaprox = y+((h/6)*(k1+2*k2+2*k3+k4))    #Método de Runge Kutta 4\n",
    "        yreal = freal(t)\n",
    "        df = df.append(pd.DataFrame(np.array([[t,yaprox,yreal,abs(yaprox-y),abs(yaprox-yreal)]]),columns=columnas),ignore_index=True)\n",
    "    \n",
    "    # Hago un print de la tabla\n",
    "    if grafico:\n",
    "        print(df)\n",
    "    \n",
    "    # Grafico las funciones y los errores\n",
    "    if grafico:\n",
    "        graficar(df)   \n",
    "    \n",
    "    #Retorno la columna Error Local para determinar el N que necesito\n",
    "    return df['eLocal']\n",
    "    \n",
    "def graficar(df):\n",
    "    \n",
    "    '''\n",
    "    Creo dos figuras (subpĺots), una para graficar las funciones\n",
    "    y otra para graficar los errores\n",
    "    Utilizo las columnas del DataFrame para realizar el plot\n",
    "    Agrego un título y una leyenda para dar información\n",
    "    '''\n",
    "    \n",
    "    fig = plt.figure(figsize=[10,10])\n",
    "    ax1 = fig.add_subplot(2,1,1)\n",
    "    ax1.plot(df[\"t\"],df[\"yAprox\"])\n",
    "    ax1.plot(df[\"t\"],df[\"yReal\"])\n",
    "    ax1.legend(labels=[\"Aproximado\",\"Real\"]) #loc=\"upper left\" - Para ubicar el Legend\n",
    "\n",
    "    ax1 = fig.add_subplot(2,1,2)\n",
    "    ax1.plot(df['t'],df[\"eLocal\"])\n",
    "    ax1.plot(df['t'],df['eGlobal'])\n",
    "    ax1.legend(labels=[\"Error Local\",\"Error Global\"])\n",
    "\n",
    "    plt.show()"
   ]
  },
  {
   "cell_type": "code",
   "execution_count": 4,
   "metadata": {},
   "outputs": [
    {
     "name": "stdout",
     "output_type": "stream",
     "text": [
      "El N necesario para que el Error Local sea menor a 10^-4 es i = 3\n"
     ]
    }
   ],
   "source": [
    "# Definir intervalo I, tamaño de paso h y valor iniciar y0\n",
    "I = [0,1]    \n",
    "y0 = 0.0\n",
    "\n",
    "i = 1;\n",
    "maxiter = 1\n",
    "while maxiter < 20:\n",
    "    h = 1/(10**i)\n",
    "    last = int((I[1]-I[0])//h)\n",
    "    errores = RungeKutta4(f,yReal,h,I,y0,False)\n",
    "    if abs(errores[last]-errores[last-1]) < 0.0001:\n",
    "        break\n",
    "    i += 1\n",
    "    maxiter += 1\n",
    "print(\"El N necesario para que el Error Local sea menor a 10^-4 es i =\", i)"
   ]
  }
 ],
 "metadata": {
  "kernelspec": {
   "display_name": "Python 3",
   "language": "python",
   "name": "python3"
  },
  "language_info": {
   "codemirror_mode": {
    "name": "ipython",
    "version": 3
   },
   "file_extension": ".py",
   "mimetype": "text/x-python",
   "name": "python",
   "nbconvert_exporter": "python",
   "pygments_lexer": "ipython3",
   "version": "3.7.3"
  }
 },
 "nbformat": 4,
 "nbformat_minor": 2
}
